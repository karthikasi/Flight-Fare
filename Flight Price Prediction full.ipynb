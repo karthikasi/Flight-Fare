{
 "cells": [
  {
   "cell_type": "markdown",
   "id": "ca1681e1",
   "metadata": {},
   "source": [
    "In This Project we predict the price of the airplane using regression technique,\n",
    "and which factor affects the price of the arplane we try to find from the below dataset which i have got from the internet."
   ]
  },
  {
   "cell_type": "code",
   "execution_count": 1,
   "id": "d2185435",
   "metadata": {},
   "outputs": [],
   "source": [
    "import pandas as pd\n",
    "import numpy as np"
   ]
  },
  {
   "cell_type": "code",
   "execution_count": 2,
   "id": "aeaee0a8",
   "metadata": {},
   "outputs": [],
   "source": [
    "bud=pd.read_csv(\"C:\\\\Users\\\\ACER\\\\Documents\\\\Zoom\\\\business.csv\")"
   ]
  },
  {
   "cell_type": "code",
   "execution_count": 3,
   "id": "83b9125c",
   "metadata": {},
   "outputs": [
    {
     "data": {
      "text/html": [
       "<div>\n",
       "<style scoped>\n",
       "    .dataframe tbody tr th:only-of-type {\n",
       "        vertical-align: middle;\n",
       "    }\n",
       "\n",
       "    .dataframe tbody tr th {\n",
       "        vertical-align: top;\n",
       "    }\n",
       "\n",
       "    .dataframe thead th {\n",
       "        text-align: right;\n",
       "    }\n",
       "</style>\n",
       "<table border=\"1\" class=\"dataframe\">\n",
       "  <thead>\n",
       "    <tr style=\"text-align: right;\">\n",
       "      <th></th>\n",
       "      <th>date</th>\n",
       "      <th>airline</th>\n",
       "      <th>ch_code</th>\n",
       "      <th>num_code</th>\n",
       "      <th>dep_time</th>\n",
       "      <th>from</th>\n",
       "      <th>time_taken</th>\n",
       "      <th>stop</th>\n",
       "      <th>arr_time</th>\n",
       "      <th>to</th>\n",
       "      <th>price</th>\n",
       "    </tr>\n",
       "  </thead>\n",
       "  <tbody>\n",
       "    <tr>\n",
       "      <th>0</th>\n",
       "      <td>11-02-2022</td>\n",
       "      <td>Air India</td>\n",
       "      <td>AI</td>\n",
       "      <td>868</td>\n",
       "      <td>18:00</td>\n",
       "      <td>Delhi</td>\n",
       "      <td>02h 00m</td>\n",
       "      <td>non-stop</td>\n",
       "      <td>20:00</td>\n",
       "      <td>Mumbai</td>\n",
       "      <td>25,612</td>\n",
       "    </tr>\n",
       "    <tr>\n",
       "      <th>1</th>\n",
       "      <td>11-02-2022</td>\n",
       "      <td>Air India</td>\n",
       "      <td>AI</td>\n",
       "      <td>624</td>\n",
       "      <td>19:00</td>\n",
       "      <td>Delhi</td>\n",
       "      <td>02h 15m</td>\n",
       "      <td>non-stop</td>\n",
       "      <td>21:15</td>\n",
       "      <td>Mumbai</td>\n",
       "      <td>25,612</td>\n",
       "    </tr>\n",
       "    <tr>\n",
       "      <th>2</th>\n",
       "      <td>11-02-2022</td>\n",
       "      <td>Air India</td>\n",
       "      <td>AI</td>\n",
       "      <td>531</td>\n",
       "      <td>20:00</td>\n",
       "      <td>Delhi</td>\n",
       "      <td>24h 45m</td>\n",
       "      <td>1-stop\\n\\t\\t\\t\\t\\t\\t\\t\\t\\t\\t\\t\\t\\n\\t\\t\\t\\t\\t\\t...</td>\n",
       "      <td>20:45</td>\n",
       "      <td>Mumbai</td>\n",
       "      <td>42,220</td>\n",
       "    </tr>\n",
       "    <tr>\n",
       "      <th>3</th>\n",
       "      <td>11-02-2022</td>\n",
       "      <td>Air India</td>\n",
       "      <td>AI</td>\n",
       "      <td>839</td>\n",
       "      <td>21:25</td>\n",
       "      <td>Delhi</td>\n",
       "      <td>26h 30m</td>\n",
       "      <td>1-stop\\n\\t\\t\\t\\t\\t\\t\\t\\t\\t\\t\\t\\t\\n\\t\\t\\t\\t\\t\\t...</td>\n",
       "      <td>23:55</td>\n",
       "      <td>Mumbai</td>\n",
       "      <td>44,450</td>\n",
       "    </tr>\n",
       "    <tr>\n",
       "      <th>4</th>\n",
       "      <td>11-02-2022</td>\n",
       "      <td>Air India</td>\n",
       "      <td>AI</td>\n",
       "      <td>544</td>\n",
       "      <td>17:15</td>\n",
       "      <td>Delhi</td>\n",
       "      <td>06h 40m</td>\n",
       "      <td>1-stop\\n\\t\\t\\t\\t\\t\\t\\t\\t\\t\\t\\t\\t\\n\\t\\t\\t\\t\\t\\t...</td>\n",
       "      <td>23:55</td>\n",
       "      <td>Mumbai</td>\n",
       "      <td>46,690</td>\n",
       "    </tr>\n",
       "    <tr>\n",
       "      <th>...</th>\n",
       "      <td>...</td>\n",
       "      <td>...</td>\n",
       "      <td>...</td>\n",
       "      <td>...</td>\n",
       "      <td>...</td>\n",
       "      <td>...</td>\n",
       "      <td>...</td>\n",
       "      <td>...</td>\n",
       "      <td>...</td>\n",
       "      <td>...</td>\n",
       "      <td>...</td>\n",
       "    </tr>\n",
       "    <tr>\n",
       "      <th>93482</th>\n",
       "      <td>31-03-2022</td>\n",
       "      <td>Vistara</td>\n",
       "      <td>UK</td>\n",
       "      <td>822</td>\n",
       "      <td>09:45</td>\n",
       "      <td>Chennai</td>\n",
       "      <td>10h 05m</td>\n",
       "      <td>1-stop\\n\\t\\t\\t\\t\\t\\t\\t\\t\\t\\t\\t\\t\\n\\t\\t\\t\\t\\t\\t...</td>\n",
       "      <td>19:50</td>\n",
       "      <td>Hyderabad</td>\n",
       "      <td>69,265</td>\n",
       "    </tr>\n",
       "    <tr>\n",
       "      <th>93483</th>\n",
       "      <td>31-03-2022</td>\n",
       "      <td>Vistara</td>\n",
       "      <td>UK</td>\n",
       "      <td>826</td>\n",
       "      <td>12:30</td>\n",
       "      <td>Chennai</td>\n",
       "      <td>10h 25m</td>\n",
       "      <td>1-stop\\n\\t\\t\\t\\t\\t\\t\\t\\t\\t\\t\\t\\t\\n\\t\\t\\t\\t\\t\\t...</td>\n",
       "      <td>22:55</td>\n",
       "      <td>Hyderabad</td>\n",
       "      <td>77,105</td>\n",
       "    </tr>\n",
       "    <tr>\n",
       "      <th>93484</th>\n",
       "      <td>31-03-2022</td>\n",
       "      <td>Vistara</td>\n",
       "      <td>UK</td>\n",
       "      <td>832</td>\n",
       "      <td>07:05</td>\n",
       "      <td>Chennai</td>\n",
       "      <td>13h 50m</td>\n",
       "      <td>1-stop\\n\\t\\t\\t\\t\\t\\t\\t\\t\\t\\t\\t\\t\\n\\t\\t\\t\\t\\t\\t...</td>\n",
       "      <td>20:55</td>\n",
       "      <td>Hyderabad</td>\n",
       "      <td>79,099</td>\n",
       "    </tr>\n",
       "    <tr>\n",
       "      <th>93485</th>\n",
       "      <td>31-03-2022</td>\n",
       "      <td>Vistara</td>\n",
       "      <td>UK</td>\n",
       "      <td>828</td>\n",
       "      <td>07:00</td>\n",
       "      <td>Chennai</td>\n",
       "      <td>10h 00m</td>\n",
       "      <td>1-stop\\n\\t\\t\\t\\t\\t\\t\\t\\t\\t\\t\\t\\t\\n\\t\\t\\t\\t\\t\\t...</td>\n",
       "      <td>17:00</td>\n",
       "      <td>Hyderabad</td>\n",
       "      <td>81,585</td>\n",
       "    </tr>\n",
       "    <tr>\n",
       "      <th>93486</th>\n",
       "      <td>31-03-2022</td>\n",
       "      <td>Vistara</td>\n",
       "      <td>UK</td>\n",
       "      <td>822</td>\n",
       "      <td>09:45</td>\n",
       "      <td>Chennai</td>\n",
       "      <td>10h 05m</td>\n",
       "      <td>1-stop\\n\\t\\t\\t\\t\\t\\t\\t\\t\\t\\t\\t\\t\\n\\t\\t\\t\\t\\t\\t...</td>\n",
       "      <td>19:50</td>\n",
       "      <td>Hyderabad</td>\n",
       "      <td>81,585</td>\n",
       "    </tr>\n",
       "  </tbody>\n",
       "</table>\n",
       "<p>93487 rows × 11 columns</p>\n",
       "</div>"
      ],
      "text/plain": [
       "             date    airline ch_code  num_code dep_time     from time_taken  \\\n",
       "0      11-02-2022  Air India      AI       868    18:00    Delhi    02h 00m   \n",
       "1      11-02-2022  Air India      AI       624    19:00    Delhi    02h 15m   \n",
       "2      11-02-2022  Air India      AI       531    20:00    Delhi    24h 45m   \n",
       "3      11-02-2022  Air India      AI       839    21:25    Delhi    26h 30m   \n",
       "4      11-02-2022  Air India      AI       544    17:15    Delhi    06h 40m   \n",
       "...           ...        ...     ...       ...      ...      ...        ...   \n",
       "93482  31-03-2022    Vistara      UK       822    09:45  Chennai    10h 05m   \n",
       "93483  31-03-2022    Vistara      UK       826    12:30  Chennai    10h 25m   \n",
       "93484  31-03-2022    Vistara      UK       832    07:05  Chennai    13h 50m   \n",
       "93485  31-03-2022    Vistara      UK       828    07:00  Chennai    10h 00m   \n",
       "93486  31-03-2022    Vistara      UK       822    09:45  Chennai    10h 05m   \n",
       "\n",
       "                                                    stop arr_time         to  \\\n",
       "0                                              non-stop     20:00     Mumbai   \n",
       "1                                              non-stop     21:15     Mumbai   \n",
       "2      1-stop\\n\\t\\t\\t\\t\\t\\t\\t\\t\\t\\t\\t\\t\\n\\t\\t\\t\\t\\t\\t...    20:45     Mumbai   \n",
       "3      1-stop\\n\\t\\t\\t\\t\\t\\t\\t\\t\\t\\t\\t\\t\\n\\t\\t\\t\\t\\t\\t...    23:55     Mumbai   \n",
       "4      1-stop\\n\\t\\t\\t\\t\\t\\t\\t\\t\\t\\t\\t\\t\\n\\t\\t\\t\\t\\t\\t...    23:55     Mumbai   \n",
       "...                                                  ...      ...        ...   \n",
       "93482  1-stop\\n\\t\\t\\t\\t\\t\\t\\t\\t\\t\\t\\t\\t\\n\\t\\t\\t\\t\\t\\t...    19:50  Hyderabad   \n",
       "93483  1-stop\\n\\t\\t\\t\\t\\t\\t\\t\\t\\t\\t\\t\\t\\n\\t\\t\\t\\t\\t\\t...    22:55  Hyderabad   \n",
       "93484  1-stop\\n\\t\\t\\t\\t\\t\\t\\t\\t\\t\\t\\t\\t\\n\\t\\t\\t\\t\\t\\t...    20:55  Hyderabad   \n",
       "93485  1-stop\\n\\t\\t\\t\\t\\t\\t\\t\\t\\t\\t\\t\\t\\n\\t\\t\\t\\t\\t\\t...    17:00  Hyderabad   \n",
       "93486  1-stop\\n\\t\\t\\t\\t\\t\\t\\t\\t\\t\\t\\t\\t\\n\\t\\t\\t\\t\\t\\t...    19:50  Hyderabad   \n",
       "\n",
       "        price  \n",
       "0      25,612  \n",
       "1      25,612  \n",
       "2      42,220  \n",
       "3      44,450  \n",
       "4      46,690  \n",
       "...       ...  \n",
       "93482  69,265  \n",
       "93483  77,105  \n",
       "93484  79,099  \n",
       "93485  81,585  \n",
       "93486  81,585  \n",
       "\n",
       "[93487 rows x 11 columns]"
      ]
     },
     "execution_count": 3,
     "metadata": {},
     "output_type": "execute_result"
    }
   ],
   "source": [
    "bud"
   ]
  },
  {
   "cell_type": "code",
   "execution_count": 4,
   "id": "07c581a7",
   "metadata": {},
   "outputs": [
    {
     "data": {
      "text/plain": [
       "date          object\n",
       "airline       object\n",
       "ch_code       object\n",
       "num_code       int64\n",
       "dep_time      object\n",
       "from          object\n",
       "time_taken    object\n",
       "stop          object\n",
       "arr_time      object\n",
       "to            object\n",
       "price         object\n",
       "dtype: object"
      ]
     },
     "execution_count": 4,
     "metadata": {},
     "output_type": "execute_result"
    }
   ],
   "source": [
    "bud.dtypes"
   ]
  },
  {
   "cell_type": "code",
   "execution_count": 5,
   "id": "f022727c",
   "metadata": {},
   "outputs": [
    {
     "data": {
      "text/plain": [
       "1-stop\\n\\t\\t\\t\\t\\t\\t\\t\\t\\t\\t\\t\\t\\n\\t\\t\\t\\t\\t\\t\\t\\t\\t\\t\\t\\t                   81489\n",
       "non-stop                                                                      8102\n",
       "2+-stop                                                                       1083\n",
       "1-stop\\n\\t\\t\\t\\t\\t\\t\\t\\t\\t\\t\\t\\tVia IDR\\n\\t\\t\\t\\t\\t\\t\\t\\t\\t\\t\\t\\t              810\n",
       "1-stop\\n\\t\\t\\t\\t\\t\\t\\t\\t\\t\\t\\t\\tVia IXU\\n\\t\\t\\t\\t\\t\\t\\t\\t\\t\\t\\t\\t              776\n",
       "1-stop\\n\\t\\t\\t\\t\\t\\t\\t\\t\\t\\t\\t\\tVia PAT\\n\\t\\t\\t\\t\\t\\t\\t\\t\\t\\t\\t\\t              257\n",
       "1-stop\\n\\t\\t\\t\\t\\t\\t\\t\\t\\t\\t\\t\\tVia Patna\\n\\t\\t\\t\\t\\t\\t\\t\\t\\t\\t\\t\\t            242\n",
       "1-stop\\n\\t\\t\\t\\t\\t\\t\\t\\t\\t\\t\\t\\tVia BBI\\n\\t\\t\\t\\t\\t\\t\\t\\t\\t\\t\\t\\t              152\n",
       "1-stop\\n\\t\\t\\t\\t\\t\\t\\t\\t\\t\\t\\t\\tVia STV\\n\\t\\t\\t\\t\\t\\t\\t\\t\\t\\t\\t\\t               93\n",
       "1-stop\\n\\t\\t\\t\\t\\t\\t\\t\\t\\t\\t\\t\\tVia IXE\\n\\t\\t\\t\\t\\t\\t\\t\\t\\t\\t\\t\\t               86\n",
       "1-stop\\n\\t\\t\\t\\t\\t\\t\\t\\t\\t\\t\\t\\tVia Bhubaneswar\\n\\t\\t\\t\\t\\t\\t\\t\\t\\t\\t\\t\\t       75\n",
       "1-stop\\n\\t\\t\\t\\t\\t\\t\\t\\t\\t\\t\\t\\tVia Hyderabad\\n\\t\\t\\t\\t\\t\\t\\t\\t\\t\\t\\t\\t         71\n",
       "1-stop\\n\\t\\t\\t\\t\\t\\t\\t\\t\\t\\t\\t\\tVia Delhi\\n\\t\\t\\t\\t\\t\\t\\t\\t\\t\\t\\t\\t             59\n",
       "1-stop\\n\\t\\t\\t\\t\\t\\t\\t\\t\\t\\t\\t\\tVia Raipur\\n\\t\\t\\t\\t\\t\\t\\t\\t\\t\\t\\t\\t            43\n",
       "1-stop\\n\\t\\t\\t\\t\\t\\t\\t\\t\\t\\t\\t\\tVia Chennai\\n\\t\\t\\t\\t\\t\\t\\t\\t\\t\\t\\t\\t           42\n",
       "1-stop\\n\\t\\t\\t\\t\\t\\t\\t\\t\\t\\t\\t\\tVia Guwahati\\n\\t\\t\\t\\t\\t\\t\\t\\t\\t\\t\\t\\t          29\n",
       "1-stop\\n\\t\\t\\t\\t\\t\\t\\t\\t\\t\\t\\t\\tVia VTZ\\n\\t\\t\\t\\t\\t\\t\\t\\t\\t\\t\\t\\t               17\n",
       "1-stop\\n\\t\\t\\t\\t\\t\\t\\t\\t\\t\\t\\t\\tVia NDC\\n\\t\\t\\t\\t\\t\\t\\t\\t\\t\\t\\t\\t               14\n",
       "1-stop\\n\\t\\t\\t\\t\\t\\t\\t\\t\\t\\t\\t\\tVia Kolkata\\n\\t\\t\\t\\t\\t\\t\\t\\t\\t\\t\\t\\t           14\n",
       "1-stop\\n\\t\\t\\t\\t\\t\\t\\t\\t\\t\\t\\t\\tVia RPR\\n\\t\\t\\t\\t\\t\\t\\t\\t\\t\\t\\t\\t               13\n",
       "1-stop\\n\\t\\t\\t\\t\\t\\t\\t\\t\\t\\t\\t\\tVia Lucknow\\n\\t\\t\\t\\t\\t\\t\\t\\t\\t\\t\\t\\t           10\n",
       "1-stop\\n\\t\\t\\t\\t\\t\\t\\t\\t\\t\\t\\t\\tVia GAU\\n\\t\\t\\t\\t\\t\\t\\t\\t\\t\\t\\t\\t                3\n",
       "1-stop\\n\\t\\t\\t\\t\\t\\t\\t\\t\\t\\t\\t\\tVia GAY\\n\\t\\t\\t\\t\\t\\t\\t\\t\\t\\t\\t\\t                3\n",
       "1-stop\\n\\t\\t\\t\\t\\t\\t\\t\\t\\t\\t\\t\\tVia Surat\\n\\t\\t\\t\\t\\t\\t\\t\\t\\t\\t\\t\\t              3\n",
       "1-stop\\n\\t\\t\\t\\t\\t\\t\\t\\t\\t\\t\\t\\tVia HYD\\n\\t\\t\\t\\t\\t\\t\\t\\t\\t\\t\\t\\t                1\n",
       "Name: stop, dtype: int64"
      ]
     },
     "execution_count": 5,
     "metadata": {},
     "output_type": "execute_result"
    }
   ],
   "source": [
    "bud[\"stop\"].value_counts()"
   ]
  },
  {
   "cell_type": "code",
   "execution_count": 6,
   "id": "22b0634b",
   "metadata": {},
   "outputs": [],
   "source": [
    "import re\n",
    "bud[\"stop\"]=bud[\"stop\"].str.replace(\"\\n\",\" \")\n",
    "bud[\"stop\"]=bud[\"stop\"].str.replace(\"\\t\",\" \")"
   ]
  },
  {
   "cell_type": "code",
   "execution_count": 7,
   "id": "d2635ddc",
   "metadata": {},
   "outputs": [],
   "source": [
    "bud[['stop',\"Route\"]]= bud['stop'].str.split(' ',1,expand=True)"
   ]
  },
  {
   "cell_type": "code",
   "execution_count": 8,
   "id": "0e861663",
   "metadata": {},
   "outputs": [
    {
     "data": {
      "text/plain": [
       "1-stop      84302\n",
       "non-stop     8102\n",
       "2+-stop      1083\n",
       "Name: stop, dtype: int64"
      ]
     },
     "execution_count": 8,
     "metadata": {},
     "output_type": "execute_result"
    }
   ],
   "source": [
    "bud[\"stop\"].value_counts()"
   ]
  },
  {
   "cell_type": "code",
   "execution_count": 9,
   "id": "01e5d608",
   "metadata": {},
   "outputs": [
    {
     "data": {
      "text/plain": [
       "                                            81489\n",
       "                                             8102\n",
       "            Via IDR                           810\n",
       "            Via IXU                           776\n",
       "            Via PAT                           257\n",
       "            Via Patna                         242\n",
       "            Via BBI                           152\n",
       "            Via STV                            93\n",
       "            Via IXE                            86\n",
       "            Via Bhubaneswar                    75\n",
       "            Via Hyderabad                      71\n",
       "            Via Delhi                          59\n",
       "            Via Raipur                         43\n",
       "            Via Chennai                        42\n",
       "            Via Guwahati                       29\n",
       "            Via VTZ                            17\n",
       "            Via Kolkata                        14\n",
       "            Via NDC                            14\n",
       "            Via RPR                            13\n",
       "            Via Lucknow                        10\n",
       "            Via GAU                             3\n",
       "            Via GAY                             3\n",
       "            Via Surat                           3\n",
       "            Via HYD                             1\n",
       "Name: Route, dtype: int64"
      ]
     },
     "execution_count": 9,
     "metadata": {},
     "output_type": "execute_result"
    }
   ],
   "source": [
    "bud[\"Route\"].value_counts()"
   ]
  },
  {
   "cell_type": "code",
   "execution_count": 10,
   "id": "43f4c0ab",
   "metadata": {},
   "outputs": [],
   "source": [
    "#bud[\"Route\"]=bud[\"Route\"].replace(\"\",np.nan,regex = True)"
   ]
  },
  {
   "cell_type": "code",
   "execution_count": 11,
   "id": "559298fb",
   "metadata": {},
   "outputs": [],
   "source": [
    "bud['Route']=bud[['Route']].apply(lambda x: x.str.strip()).replace('',np.nan)"
   ]
  },
  {
   "cell_type": "code",
   "execution_count": 12,
   "id": "e612501d",
   "metadata": {},
   "outputs": [
    {
     "data": {
      "text/plain": [
       "Via IDR            810\n",
       "Via IXU            776\n",
       "Via PAT            257\n",
       "Via Patna          242\n",
       "Via BBI            152\n",
       "Via STV             93\n",
       "Via IXE             86\n",
       "Via Bhubaneswar     75\n",
       "Via Hyderabad       71\n",
       "Via Delhi           59\n",
       "Via Raipur          43\n",
       "Via Chennai         42\n",
       "Via Guwahati        29\n",
       "Via VTZ             17\n",
       "Via NDC             14\n",
       "Via Kolkata         14\n",
       "Via RPR             13\n",
       "Via Lucknow         10\n",
       "Via GAU              3\n",
       "Via GAY              3\n",
       "Via Surat            3\n",
       "Via HYD              1\n",
       "Name: Route, dtype: int64"
      ]
     },
     "execution_count": 12,
     "metadata": {},
     "output_type": "execute_result"
    }
   ],
   "source": [
    "bud[\"Route\"].value_counts()"
   ]
  },
  {
   "cell_type": "code",
   "execution_count": 13,
   "id": "23123f75",
   "metadata": {},
   "outputs": [],
   "source": [
    "\n",
    "#bud[\"stop\"][bud[\"stop\"].str.contains(\"1-stop\")] = \"1-stop\""
   ]
  },
  {
   "cell_type": "code",
   "execution_count": 14,
   "id": "6637903a",
   "metadata": {},
   "outputs": [
    {
     "data": {
      "text/plain": [
       "Index(['date', 'airline', 'ch_code', 'num_code', 'dep_time', 'from',\n",
       "       'time_taken', 'stop', 'arr_time', 'to', 'price', 'Route'],\n",
       "      dtype='object')"
      ]
     },
     "execution_count": 14,
     "metadata": {},
     "output_type": "execute_result"
    }
   ],
   "source": [
    "bud.columns"
   ]
  },
  {
   "cell_type": "code",
   "execution_count": 15,
   "id": "6a06a20e",
   "metadata": {},
   "outputs": [
    {
     "data": {
      "text/plain": [
       "1-stop      84302\n",
       "non-stop     8102\n",
       "2+-stop      1083\n",
       "Name: stop, dtype: int64"
      ]
     },
     "execution_count": 15,
     "metadata": {},
     "output_type": "execute_result"
    }
   ],
   "source": [
    "bud[\"stop\"].value_counts()"
   ]
  },
  {
   "cell_type": "code",
   "execution_count": 16,
   "id": "83ba4b63",
   "metadata": {},
   "outputs": [],
   "source": [
    "#map string values in the total stops column into integer values\n",
    "'''dic={'non-stop':0,\n",
    "    '1 stop':1,\n",
    "    '2 stops':2,\n",
    "    '3 stops':3,\n",
    "    '4 stops':4}\n",
    "\n",
    "bud['Stops']=df['stops'].map(dic)\n",
    "bud['Stops'].value_counts()'''\n",
    "from sklearn.preprocessing import LabelEncoder\n",
    "bud_stop = LabelEncoder()\n",
    "bud_stop.fit(bud['stop'])\n",
    "bud[\"stop\"] = bud_stop.transform(bud['stop'])"
   ]
  },
  {
   "cell_type": "code",
   "execution_count": 17,
   "id": "2f4f886d",
   "metadata": {},
   "outputs": [
    {
     "data": {
      "text/plain": [
       "0    84302\n",
       "2     8102\n",
       "1     1083\n",
       "Name: stop, dtype: int64"
      ]
     },
     "execution_count": 17,
     "metadata": {},
     "output_type": "execute_result"
    }
   ],
   "source": [
    "bud[\"stop\"].value_counts()"
   ]
  },
  {
   "cell_type": "code",
   "execution_count": 18,
   "id": "51f42fa8",
   "metadata": {},
   "outputs": [
    {
     "data": {
      "text/plain": [
       "Vistara      60589\n",
       "Air India    32898\n",
       "Name: airline, dtype: int64"
      ]
     },
     "execution_count": 18,
     "metadata": {},
     "output_type": "execute_result"
    }
   ],
   "source": [
    "bud[\"airline\"].value_counts()"
   ]
  },
  {
   "cell_type": "code",
   "execution_count": 19,
   "id": "40e50228",
   "metadata": {},
   "outputs": [
    {
     "data": {
      "text/plain": [
       "Mumbai       19858\n",
       "Delhi        18316\n",
       "Bangalore    16441\n",
       "Kolkata      13473\n",
       "Hyderabad    12870\n",
       "Chennai      12529\n",
       "Name: from, dtype: int64"
      ]
     },
     "execution_count": 19,
     "metadata": {},
     "output_type": "execute_result"
    }
   ],
   "source": [
    "bud[\"from\"].value_counts()"
   ]
  },
  {
   "cell_type": "code",
   "execution_count": 20,
   "id": "68188b14",
   "metadata": {},
   "outputs": [
    {
     "data": {
      "text/plain": [
       "Mumbai       18991\n",
       "Delhi        16707\n",
       "Bangalore    16198\n",
       "Kolkata      14758\n",
       "Hyderabad    13675\n",
       "Chennai      13158\n",
       "Name: to, dtype: int64"
      ]
     },
     "execution_count": 20,
     "metadata": {},
     "output_type": "execute_result"
    }
   ],
   "source": [
    "bud[\"to\"].value_counts()"
   ]
  },
  {
   "cell_type": "code",
   "execution_count": 21,
   "id": "98b0c2d2",
   "metadata": {},
   "outputs": [
    {
     "data": {
      "text/plain": [
       "UK    60589\n",
       "AI    32898\n",
       "Name: ch_code, dtype: int64"
      ]
     },
     "execution_count": 21,
     "metadata": {},
     "output_type": "execute_result"
    }
   ],
   "source": [
    "bud[\"ch_code\"].value_counts()"
   ]
  },
  {
   "cell_type": "code",
   "execution_count": 22,
   "id": "b001ad0d",
   "metadata": {},
   "outputs": [
    {
     "data": {
      "text/plain": [
       "0"
      ]
     },
     "execution_count": 22,
     "metadata": {},
     "output_type": "execute_result"
    }
   ],
   "source": [
    "bud.duplicated().sum()"
   ]
  },
  {
   "cell_type": "code",
   "execution_count": 23,
   "id": "a7bb220c",
   "metadata": {},
   "outputs": [],
   "source": [
    "bud['ch_code']=bud.ch_code.astype('category').cat.codes"
   ]
  },
  {
   "cell_type": "code",
   "execution_count": 24,
   "id": "77fe0a18",
   "metadata": {},
   "outputs": [
    {
     "data": {
      "text/plain": [
       "1    60589\n",
       "0    32898\n",
       "Name: ch_code, dtype: int64"
      ]
     },
     "execution_count": 24,
     "metadata": {},
     "output_type": "execute_result"
    }
   ],
   "source": [
    "bud[\"ch_code\"].value_counts()"
   ]
  },
  {
   "cell_type": "code",
   "execution_count": 25,
   "id": "f6d80c86",
   "metadata": {},
   "outputs": [],
   "source": [
    "import matplotlib.pyplot as plt\n",
    "import seaborn as sns"
   ]
  },
  {
   "cell_type": "code",
   "execution_count": 26,
   "id": "7e66ae44",
   "metadata": {},
   "outputs": [],
   "source": [
    "bud['airline'] = bud['airline'].map(dict(zip(['Vistara','Air India'],[0,1])))"
   ]
  },
  {
   "cell_type": "code",
   "execution_count": 27,
   "id": "a8029c63",
   "metadata": {},
   "outputs": [
    {
     "data": {
      "text/plain": [
       "0    60589\n",
       "1    32898\n",
       "Name: airline, dtype: int64"
      ]
     },
     "execution_count": 27,
     "metadata": {},
     "output_type": "execute_result"
    }
   ],
   "source": [
    "bud[\"airline\"].value_counts()"
   ]
  },
  {
   "cell_type": "code",
   "execution_count": 28,
   "id": "e4b89231",
   "metadata": {},
   "outputs": [],
   "source": [
    "from sklearn.preprocessing import LabelEncoder\n",
    "bud_from = LabelEncoder()\n",
    "bud_from.fit(bud['from'])\n",
    "bud[\"from\"] = bud_from.transform(bud['from'])"
   ]
  },
  {
   "cell_type": "code",
   "execution_count": 29,
   "id": "d0ed00ae",
   "metadata": {},
   "outputs": [
    {
     "data": {
      "text/plain": [
       "5    19858\n",
       "2    18316\n",
       "0    16441\n",
       "4    13473\n",
       "3    12870\n",
       "1    12529\n",
       "Name: from, dtype: int64"
      ]
     },
     "execution_count": 29,
     "metadata": {},
     "output_type": "execute_result"
    }
   ],
   "source": [
    "bud[\"from\"].value_counts()"
   ]
  },
  {
   "cell_type": "code",
   "execution_count": 30,
   "id": "27373fd7",
   "metadata": {},
   "outputs": [],
   "source": [
    "bud_from.fit(bud[\"to\"])\n",
    "\n",
    "bud['to']=bud_from.transform(bud[\"to\"])"
   ]
  },
  {
   "cell_type": "code",
   "execution_count": 31,
   "id": "30d66464",
   "metadata": {},
   "outputs": [
    {
     "data": {
      "text/plain": [
       "5    18991\n",
       "2    16707\n",
       "0    16198\n",
       "4    14758\n",
       "3    13675\n",
       "1    13158\n",
       "Name: to, dtype: int64"
      ]
     },
     "execution_count": 31,
     "metadata": {},
     "output_type": "execute_result"
    }
   ],
   "source": [
    "bud['to'].value_counts()"
   ]
  },
  {
   "cell_type": "code",
   "execution_count": 32,
   "id": "9c758ac9",
   "metadata": {},
   "outputs": [],
   "source": [
    "bud['price'] = bud['price'].str.replace(',', '').astype(float)"
   ]
  },
  {
   "cell_type": "code",
   "execution_count": 33,
   "id": "b3584316",
   "metadata": {},
   "outputs": [
    {
     "data": {
      "text/plain": [
       "0        25612.0\n",
       "1        25612.0\n",
       "2        42220.0\n",
       "3        44450.0\n",
       "4        46690.0\n",
       "          ...   \n",
       "93482    69265.0\n",
       "93483    77105.0\n",
       "93484    79099.0\n",
       "93485    81585.0\n",
       "93486    81585.0\n",
       "Name: price, Length: 93487, dtype: float64"
      ]
     },
     "execution_count": 33,
     "metadata": {},
     "output_type": "execute_result"
    }
   ],
   "source": [
    "bud['price']"
   ]
  },
  {
   "cell_type": "code",
   "execution_count": 34,
   "id": "e365cbe4",
   "metadata": {},
   "outputs": [
    {
     "name": "stdout",
     "output_type": "stream",
     "text": [
      "Airline-0 = Vistara, Airline - 1 is Air India\n"
     ]
    },
    {
     "data": {
      "image/png": "[encoded data removed]",
      "text/plain": [
       "<Figure size 500x500 with 1 Axes>"
      ]
     },
     "metadata": {},
     "output_type": "display_data"
    }
   ],
   "source": [
    "sns.set(rc={\"figure.figsize\" :(5,5)})\n",
    "ax = sns.barplot(data=bud,x='airline',y='price')\n",
    "ax.tick_params(axis='x',rotation=90)\n",
    "print(\"Airline-0 = Vistara, Airline - 1 is Air India\")"
   ]
  },
  {
   "cell_type": "code",
   "execution_count": 35,
   "id": "d7f747bd",
   "metadata": {},
   "outputs": [
    {
     "data": {
      "text/plain": [
       "<AxesSubplot:xlabel='airline', ylabel='price'>"
      ]
     },
     "execution_count": 35,
     "metadata": {},
     "output_type": "execute_result"
    },
    {
     "data": {
      "image/png": "[encoded data removed]",
      "text/plain": [
       "<Figure size 500x500 with 1 Axes>"
      ]
     },
     "metadata": {},
     "output_type": "display_data"
    }
   ],
   "source": [
    "sns.stripplot(y='price',x='airline',data=bud)"
   ]
  },
  {
   "cell_type": "code",
   "execution_count": 36,
   "id": "b014e34c",
   "metadata": {},
   "outputs": [
    {
     "name": "stdout",
     "output_type": "stream",
     "text": [
      "Mumbai = 5\n",
      "Delhi = 2\n",
      "Bangalore  = 0\n",
      "Kolkata  = 4\n",
      "Hyderabad = 3\n",
      "Chennai  = 1 \n"
     ]
    },
    {
     "data": {
      "image/png": "[encoded data removed]",
      "text/plain": [
       "<Figure size 700x500 with 1 Axes>"
      ]
     },
     "metadata": {},
     "output_type": "display_data"
    }
   ],
   "source": [
    "print(\"\"\"Mumbai = 5\n",
    "Delhi = 2\n",
    "Bangalore  = 0\n",
    "Kolkata  = 4\n",
    "Hyderabad = 3\n",
    "Chennai  = 1 \"\"\")\n",
    "plt.figure(figsize=(7,5))\n",
    "ax= sns.barplot(data=bud,x='from',y='price',errwidth = 0)\n",
    "ax.bar_label(ax.containers[0])\n",
    "plt.show()\n"
   ]
  },
  {
   "cell_type": "code",
   "execution_count": 37,
   "id": "6920e62c",
   "metadata": {},
   "outputs": [
    {
     "name": "stdout",
     "output_type": "stream",
     "text": [
      "Mumbai = 5\n",
      "Delhi = 2\n",
      "Bangalore  = 0\n",
      "Kolkata  = 4\n",
      "Hyderabad = 3\n",
      "Chennai  = 1 \n"
     ]
    },
    {
     "data": {
      "text/plain": [
       "<AxesSubplot:xlabel='to', ylabel='price'>"
      ]
     },
     "execution_count": 37,
     "metadata": {},
     "output_type": "execute_result"
    },
    {
     "data": {
      "image/png": "[encoded data removed]",
      "text/plain": [
       "<Figure size 500x500 with 1 Axes>"
      ]
     },
     "metadata": {},
     "output_type": "display_data"
    }
   ],
   "source": [
    "print(\"\"\"Mumbai = 5\n",
    "Delhi = 2\n",
    "Bangalore  = 0\n",
    "Kolkata  = 4\n",
    "Hyderabad = 3\n",
    "Chennai  = 1 \"\"\")\n",
    "sns.stripplot(y='price',x='to',data=bud)"
   ]
  },
  {
   "cell_type": "code",
   "execution_count": 38,
   "id": "37272d35",
   "metadata": {},
   "outputs": [
    {
     "name": "stdout",
     "output_type": "stream",
     "text": [
      "Mumbai = 5\n",
      "Delhi = 2\n",
      "Bangalore  = 0\n",
      "Kolkata  = 4\n",
      "Hyderabad = 3\n",
      "Chennai  = 1 \n"
     ]
    },
    {
     "data": {
      "image/png": "[encoded data removed]",
      "text/plain": [
       "<Figure size 1000x500 with 1 Axes>"
      ]
     },
     "metadata": {},
     "output_type": "display_data"
    }
   ],
   "source": [
    "print(\"\"\"Mumbai = 5\n",
    "Delhi = 2\n",
    "Bangalore  = 0\n",
    "Kolkata  = 4\n",
    "Hyderabad = 3\n",
    "Chennai  = 1 \"\"\")\n",
    "plt.figure(figsize=(10,5))\n",
    "ax = sns.barplot(data=bud,x='to',y='price',errwidth=0)\n",
    "\n",
    "for i in ax.containers:\n",
    "    ax.bar_label(i,)\n",
    "plt.show()"
   ]
  },
  {
   "cell_type": "code",
   "execution_count": 39,
   "id": "d56660bf",
   "metadata": {},
   "outputs": [],
   "source": [
    "bud['Duration_hour']=bud['time_taken'].str.split('h').str[0]\n",
    "bud['Duration_min']=bud['time_taken'].str.split('h').str[1].replace(['m'],'')\n",
    "#df['Duration_min']=df['Duration_min'].apply(lambda i:i[:-1]) it is not work\n",
    "bud['Duration_min']=bud['Duration_min'].str[:-1]"
   ]
  },
  {
   "cell_type": "code",
   "execution_count": 40,
   "id": "3580eda7",
   "metadata": {},
   "outputs": [
    {
     "data": {
      "text/html": [
       "<div>\n",
       "<style scoped>\n",
       "    .dataframe tbody tr th:only-of-type {\n",
       "        vertical-align: middle;\n",
       "    }\n",
       "\n",
       "    .dataframe tbody tr th {\n",
       "        vertical-align: top;\n",
       "    }\n",
       "\n",
       "    .dataframe thead th {\n",
       "        text-align: right;\n",
       "    }\n",
       "</style>\n",
       "<table border=\"1\" class=\"dataframe\">\n",
       "  <thead>\n",
       "    <tr style=\"text-align: right;\">\n",
       "      <th></th>\n",
       "      <th>date</th>\n",
       "      <th>airline</th>\n",
       "      <th>ch_code</th>\n",
       "      <th>num_code</th>\n",
       "      <th>dep_time</th>\n",
       "      <th>from</th>\n",
       "      <th>time_taken</th>\n",
       "      <th>stop</th>\n",
       "      <th>arr_time</th>\n",
       "      <th>to</th>\n",
       "      <th>price</th>\n",
       "      <th>Route</th>\n",
       "      <th>Duration_hour</th>\n",
       "      <th>Duration_min</th>\n",
       "    </tr>\n",
       "  </thead>\n",
       "  <tbody>\n",
       "    <tr>\n",
       "      <th>0</th>\n",
       "      <td>11-02-2022</td>\n",
       "      <td>1</td>\n",
       "      <td>0</td>\n",
       "      <td>868</td>\n",
       "      <td>18:00</td>\n",
       "      <td>2</td>\n",
       "      <td>02h 00m</td>\n",
       "      <td>2</td>\n",
       "      <td>20:00</td>\n",
       "      <td>5</td>\n",
       "      <td>25612.0</td>\n",
       "      <td>NaN</td>\n",
       "      <td>02</td>\n",
       "      <td>00</td>\n",
       "    </tr>\n",
       "    <tr>\n",
       "      <th>1</th>\n",
       "      <td>11-02-2022</td>\n",
       "      <td>1</td>\n",
       "      <td>0</td>\n",
       "      <td>624</td>\n",
       "      <td>19:00</td>\n",
       "      <td>2</td>\n",
       "      <td>02h 15m</td>\n",
       "      <td>2</td>\n",
       "      <td>21:15</td>\n",
       "      <td>5</td>\n",
       "      <td>25612.0</td>\n",
       "      <td>NaN</td>\n",
       "      <td>02</td>\n",
       "      <td>15</td>\n",
       "    </tr>\n",
       "    <tr>\n",
       "      <th>2</th>\n",
       "      <td>11-02-2022</td>\n",
       "      <td>1</td>\n",
       "      <td>0</td>\n",
       "      <td>531</td>\n",
       "      <td>20:00</td>\n",
       "      <td>2</td>\n",
       "      <td>24h 45m</td>\n",
       "      <td>0</td>\n",
       "      <td>20:45</td>\n",
       "      <td>5</td>\n",
       "      <td>42220.0</td>\n",
       "      <td>NaN</td>\n",
       "      <td>24</td>\n",
       "      <td>45</td>\n",
       "    </tr>\n",
       "    <tr>\n",
       "      <th>3</th>\n",
       "      <td>11-02-2022</td>\n",
       "      <td>1</td>\n",
       "      <td>0</td>\n",
       "      <td>839</td>\n",
       "      <td>21:25</td>\n",
       "      <td>2</td>\n",
       "      <td>26h 30m</td>\n",
       "      <td>0</td>\n",
       "      <td>23:55</td>\n",
       "      <td>5</td>\n",
       "      <td>44450.0</td>\n",
       "      <td>NaN</td>\n",
       "      <td>26</td>\n",
       "      <td>30</td>\n",
       "    </tr>\n",
       "    <tr>\n",
       "      <th>4</th>\n",
       "      <td>11-02-2022</td>\n",
       "      <td>1</td>\n",
       "      <td>0</td>\n",
       "      <td>544</td>\n",
       "      <td>17:15</td>\n",
       "      <td>2</td>\n",
       "      <td>06h 40m</td>\n",
       "      <td>0</td>\n",
       "      <td>23:55</td>\n",
       "      <td>5</td>\n",
       "      <td>46690.0</td>\n",
       "      <td>NaN</td>\n",
       "      <td>06</td>\n",
       "      <td>40</td>\n",
       "    </tr>\n",
       "    <tr>\n",
       "      <th>...</th>\n",
       "      <td>...</td>\n",
       "      <td>...</td>\n",
       "      <td>...</td>\n",
       "      <td>...</td>\n",
       "      <td>...</td>\n",
       "      <td>...</td>\n",
       "      <td>...</td>\n",
       "      <td>...</td>\n",
       "      <td>...</td>\n",
       "      <td>...</td>\n",
       "      <td>...</td>\n",
       "      <td>...</td>\n",
       "      <td>...</td>\n",
       "      <td>...</td>\n",
       "    </tr>\n",
       "    <tr>\n",
       "      <th>93482</th>\n",
       "      <td>31-03-2022</td>\n",
       "      <td>0</td>\n",
       "      <td>1</td>\n",
       "      <td>822</td>\n",
       "      <td>09:45</td>\n",
       "      <td>1</td>\n",
       "      <td>10h 05m</td>\n",
       "      <td>0</td>\n",
       "      <td>19:50</td>\n",
       "      <td>3</td>\n",
       "      <td>69265.0</td>\n",
       "      <td>NaN</td>\n",
       "      <td>10</td>\n",
       "      <td>05</td>\n",
       "    </tr>\n",
       "    <tr>\n",
       "      <th>93483</th>\n",
       "      <td>31-03-2022</td>\n",
       "      <td>0</td>\n",
       "      <td>1</td>\n",
       "      <td>826</td>\n",
       "      <td>12:30</td>\n",
       "      <td>1</td>\n",
       "      <td>10h 25m</td>\n",
       "      <td>0</td>\n",
       "      <td>22:55</td>\n",
       "      <td>3</td>\n",
       "      <td>77105.0</td>\n",
       "      <td>NaN</td>\n",
       "      <td>10</td>\n",
       "      <td>25</td>\n",
       "    </tr>\n",
       "    <tr>\n",
       "      <th>93484</th>\n",
       "      <td>31-03-2022</td>\n",
       "      <td>0</td>\n",
       "      <td>1</td>\n",
       "      <td>832</td>\n",
       "      <td>07:05</td>\n",
       "      <td>1</td>\n",
       "      <td>13h 50m</td>\n",
       "      <td>0</td>\n",
       "      <td>20:55</td>\n",
       "      <td>3</td>\n",
       "      <td>79099.0</td>\n",
       "      <td>NaN</td>\n",
       "      <td>13</td>\n",
       "      <td>50</td>\n",
       "    </tr>\n",
       "    <tr>\n",
       "      <th>93485</th>\n",
       "      <td>31-03-2022</td>\n",
       "      <td>0</td>\n",
       "      <td>1</td>\n",
       "      <td>828</td>\n",
       "      <td>07:00</td>\n",
       "      <td>1</td>\n",
       "      <td>10h 00m</td>\n",
       "      <td>0</td>\n",
       "      <td>17:00</td>\n",
       "      <td>3</td>\n",
       "      <td>81585.0</td>\n",
       "      <td>NaN</td>\n",
       "      <td>10</td>\n",
       "      <td>00</td>\n",
       "    </tr>\n",
       "    <tr>\n",
       "      <th>93486</th>\n",
       "      <td>31-03-2022</td>\n",
       "      <td>0</td>\n",
       "      <td>1</td>\n",
       "      <td>822</td>\n",
       "      <td>09:45</td>\n",
       "      <td>1</td>\n",
       "      <td>10h 05m</td>\n",
       "      <td>0</td>\n",
       "      <td>19:50</td>\n",
       "      <td>3</td>\n",
       "      <td>81585.0</td>\n",
       "      <td>NaN</td>\n",
       "      <td>10</td>\n",
       "      <td>05</td>\n",
       "    </tr>\n",
       "  </tbody>\n",
       "</table>\n",
       "<p>93487 rows × 14 columns</p>\n",
       "</div>"
      ],
      "text/plain": [
       "             date  airline  ch_code  num_code dep_time  from time_taken  stop  \\\n",
       "0      11-02-2022        1        0       868    18:00     2    02h 00m     2   \n",
       "1      11-02-2022        1        0       624    19:00     2    02h 15m     2   \n",
       "2      11-02-2022        1        0       531    20:00     2    24h 45m     0   \n",
       "3      11-02-2022        1        0       839    21:25     2    26h 30m     0   \n",
       "4      11-02-2022        1        0       544    17:15     2    06h 40m     0   \n",
       "...           ...      ...      ...       ...      ...   ...        ...   ...   \n",
       "93482  31-03-2022        0        1       822    09:45     1    10h 05m     0   \n",
       "93483  31-03-2022        0        1       826    12:30     1    10h 25m     0   \n",
       "93484  31-03-2022        0        1       832    07:05     1    13h 50m     0   \n",
       "93485  31-03-2022        0        1       828    07:00     1    10h 00m     0   \n",
       "93486  31-03-2022        0        1       822    09:45     1    10h 05m     0   \n",
       "\n",
       "      arr_time  to    price Route Duration_hour Duration_min  \n",
       "0        20:00   5  25612.0   NaN            02           00  \n",
       "1        21:15   5  25612.0   NaN            02           15  \n",
       "2        20:45   5  42220.0   NaN            24           45  \n",
       "3        23:55   5  44450.0   NaN            26           30  \n",
       "4        23:55   5  46690.0   NaN            06           40  \n",
       "...        ...  ..      ...   ...           ...          ...  \n",
       "93482    19:50   3  69265.0   NaN            10           05  \n",
       "93483    22:55   3  77105.0   NaN            10           25  \n",
       "93484    20:55   3  79099.0   NaN            13           50  \n",
       "93485    17:00   3  81585.0   NaN            10           00  \n",
       "93486    19:50   3  81585.0   NaN            10           05  \n",
       "\n",
       "[93487 rows x 14 columns]"
      ]
     },
     "execution_count": 40,
     "metadata": {},
     "output_type": "execute_result"
    }
   ],
   "source": [
    "# those two rows make an error when I want to convert them to integer so I will drop it \n",
    "bud "
   ]
  },
  {
   "cell_type": "code",
   "execution_count": 41,
   "id": "991fe11a",
   "metadata": {},
   "outputs": [
    {
     "data": {
      "text/plain": [
       "date              object\n",
       "airline            int64\n",
       "ch_code             int8\n",
       "num_code           int64\n",
       "dep_time          object\n",
       "from               int32\n",
       "time_taken        object\n",
       "stop               int32\n",
       "arr_time          object\n",
       "to                 int32\n",
       "price            float64\n",
       "Route             object\n",
       "Duration_hour     object\n",
       "Duration_min      object\n",
       "dtype: object"
      ]
     },
     "execution_count": 41,
     "metadata": {},
     "output_type": "execute_result"
    }
   ],
   "source": [
    "bud.dtypes"
   ]
  },
  {
   "cell_type": "code",
   "execution_count": 42,
   "id": "e86f1137",
   "metadata": {},
   "outputs": [],
   "source": [
    "bud[\"Duration_hour\"]=bud[\"Duration_hour\"].astype(int)\n"
   ]
  },
  {
   "cell_type": "code",
   "execution_count": 43,
   "id": "8169c7bd",
   "metadata": {},
   "outputs": [],
   "source": [
    "bud[\"Duration_min\"]=bud[\"Duration_min\"].astype(int)"
   ]
  },
  {
   "cell_type": "code",
   "execution_count": 44,
   "id": "b9d9470d",
   "metadata": {},
   "outputs": [
    {
     "data": {
      "text/plain": [
       "date              object\n",
       "airline            int64\n",
       "ch_code             int8\n",
       "num_code           int64\n",
       "dep_time          object\n",
       "from               int32\n",
       "time_taken        object\n",
       "stop               int32\n",
       "arr_time          object\n",
       "to                 int32\n",
       "price            float64\n",
       "Route             object\n",
       "Duration_hour      int32\n",
       "Duration_min       int32\n",
       "dtype: object"
      ]
     },
     "execution_count": 44,
     "metadata": {},
     "output_type": "execute_result"
    }
   ],
   "source": [
    "bud.dtypes"
   ]
  },
  {
   "cell_type": "code",
   "execution_count": 45,
   "id": "8638847f",
   "metadata": {},
   "outputs": [
    {
     "data": {
      "text/html": [
       "<div>\n",
       "<style scoped>\n",
       "    .dataframe tbody tr th:only-of-type {\n",
       "        vertical-align: middle;\n",
       "    }\n",
       "\n",
       "    .dataframe tbody tr th {\n",
       "        vertical-align: top;\n",
       "    }\n",
       "\n",
       "    .dataframe thead th {\n",
       "        text-align: right;\n",
       "    }\n",
       "</style>\n",
       "<table border=\"1\" class=\"dataframe\">\n",
       "  <thead>\n",
       "    <tr style=\"text-align: right;\">\n",
       "      <th></th>\n",
       "      <th>date</th>\n",
       "      <th>airline</th>\n",
       "      <th>ch_code</th>\n",
       "      <th>num_code</th>\n",
       "      <th>dep_time</th>\n",
       "      <th>from</th>\n",
       "      <th>stop</th>\n",
       "      <th>arr_time</th>\n",
       "      <th>to</th>\n",
       "      <th>price</th>\n",
       "      <th>Route</th>\n",
       "      <th>Duration_min</th>\n",
       "    </tr>\n",
       "  </thead>\n",
       "  <tbody>\n",
       "    <tr>\n",
       "      <th>0</th>\n",
       "      <td>11-02-2022</td>\n",
       "      <td>1</td>\n",
       "      <td>0</td>\n",
       "      <td>868</td>\n",
       "      <td>18:00</td>\n",
       "      <td>2</td>\n",
       "      <td>2</td>\n",
       "      <td>20:00</td>\n",
       "      <td>5</td>\n",
       "      <td>25612.0</td>\n",
       "      <td>NaN</td>\n",
       "      <td>120</td>\n",
       "    </tr>\n",
       "    <tr>\n",
       "      <th>1</th>\n",
       "      <td>11-02-2022</td>\n",
       "      <td>1</td>\n",
       "      <td>0</td>\n",
       "      <td>624</td>\n",
       "      <td>19:00</td>\n",
       "      <td>2</td>\n",
       "      <td>2</td>\n",
       "      <td>21:15</td>\n",
       "      <td>5</td>\n",
       "      <td>25612.0</td>\n",
       "      <td>NaN</td>\n",
       "      <td>135</td>\n",
       "    </tr>\n",
       "    <tr>\n",
       "      <th>2</th>\n",
       "      <td>11-02-2022</td>\n",
       "      <td>1</td>\n",
       "      <td>0</td>\n",
       "      <td>531</td>\n",
       "      <td>20:00</td>\n",
       "      <td>2</td>\n",
       "      <td>0</td>\n",
       "      <td>20:45</td>\n",
       "      <td>5</td>\n",
       "      <td>42220.0</td>\n",
       "      <td>NaN</td>\n",
       "      <td>765</td>\n",
       "    </tr>\n",
       "    <tr>\n",
       "      <th>3</th>\n",
       "      <td>11-02-2022</td>\n",
       "      <td>1</td>\n",
       "      <td>0</td>\n",
       "      <td>839</td>\n",
       "      <td>21:25</td>\n",
       "      <td>2</td>\n",
       "      <td>0</td>\n",
       "      <td>23:55</td>\n",
       "      <td>5</td>\n",
       "      <td>44450.0</td>\n",
       "      <td>NaN</td>\n",
       "      <td>870</td>\n",
       "    </tr>\n",
       "    <tr>\n",
       "      <th>4</th>\n",
       "      <td>11-02-2022</td>\n",
       "      <td>1</td>\n",
       "      <td>0</td>\n",
       "      <td>544</td>\n",
       "      <td>17:15</td>\n",
       "      <td>2</td>\n",
       "      <td>0</td>\n",
       "      <td>23:55</td>\n",
       "      <td>5</td>\n",
       "      <td>46690.0</td>\n",
       "      <td>NaN</td>\n",
       "      <td>400</td>\n",
       "    </tr>\n",
       "  </tbody>\n",
       "</table>\n",
       "</div>"
      ],
      "text/plain": [
       "         date  airline  ch_code  num_code dep_time  from  stop arr_time  to  \\\n",
       "0  11-02-2022        1        0       868    18:00     2     2    20:00   5   \n",
       "1  11-02-2022        1        0       624    19:00     2     2    21:15   5   \n",
       "2  11-02-2022        1        0       531    20:00     2     0    20:45   5   \n",
       "3  11-02-2022        1        0       839    21:25     2     0    23:55   5   \n",
       "4  11-02-2022        1        0       544    17:15     2     0    23:55   5   \n",
       "\n",
       "     price Route  Duration_min  \n",
       "0  25612.0   NaN           120  \n",
       "1  25612.0   NaN           135  \n",
       "2  42220.0   NaN           765  \n",
       "3  44450.0   NaN           870  \n",
       "4  46690.0   NaN           400  "
      ]
     },
     "execution_count": 45,
     "metadata": {},
     "output_type": "execute_result"
    }
   ],
   "source": [
    "def convert_to_minutes(h):\n",
    "    if h>12:\n",
    "        return (h-12)*60\n",
    "    else:\n",
    "        return h*60\n",
    "    \n",
    "bud['Duration_hour']=bud['Duration_hour'].apply(convert_to_minutes)\n",
    "bud['Duration_min']=bud['Duration_hour']+bud['Duration_min']\n",
    "bud.drop(columns=['Duration_hour',\"time_taken\"],inplace=True)\n",
    "bud.head()"
   ]
  },
  {
   "cell_type": "code",
   "execution_count": 46,
   "id": "93d3d0e7",
   "metadata": {},
   "outputs": [
    {
     "data": {
      "text/plain": [
       "<AxesSubplot:xlabel='price', ylabel='Duration_min'>"
      ]
     },
     "execution_count": 46,
     "metadata": {},
     "output_type": "execute_result"
    },
    {
     "data": {
      "image/png": "[encoded data removed]",
      "text/plain": [
       "<Figure size 500x500 with 1 Axes>"
      ]
     },
     "metadata": {},
     "output_type": "display_data"
    }
   ],
   "source": [
    "sns.regplot(x='price',y='Duration_min',data=bud)"
   ]
  },
  {
   "cell_type": "code",
   "execution_count": 47,
   "id": "3d37e7f5",
   "metadata": {},
   "outputs": [
    {
     "data": {
      "text/html": [
       "<div>\n",
       "<style scoped>\n",
       "    .dataframe tbody tr th:only-of-type {\n",
       "        vertical-align: middle;\n",
       "    }\n",
       "\n",
       "    .dataframe tbody tr th {\n",
       "        vertical-align: top;\n",
       "    }\n",
       "\n",
       "    .dataframe thead th {\n",
       "        text-align: right;\n",
       "    }\n",
       "</style>\n",
       "<table border=\"1\" class=\"dataframe\">\n",
       "  <thead>\n",
       "    <tr style=\"text-align: right;\">\n",
       "      <th></th>\n",
       "      <th>airline</th>\n",
       "      <th>ch_code</th>\n",
       "      <th>num_code</th>\n",
       "      <th>from</th>\n",
       "      <th>stop</th>\n",
       "      <th>to</th>\n",
       "      <th>price</th>\n",
       "      <th>Duration_min</th>\n",
       "    </tr>\n",
       "  </thead>\n",
       "  <tbody>\n",
       "    <tr>\n",
       "      <th>airline</th>\n",
       "      <td>1.000000</td>\n",
       "      <td>-1.000000</td>\n",
       "      <td>-0.691739</td>\n",
       "      <td>0.045208</td>\n",
       "      <td>0.012344</td>\n",
       "      <td>0.047192</td>\n",
       "      <td>-0.307322</td>\n",
       "      <td>0.010969</td>\n",
       "    </tr>\n",
       "    <tr>\n",
       "      <th>ch_code</th>\n",
       "      <td>-1.000000</td>\n",
       "      <td>1.000000</td>\n",
       "      <td>0.691739</td>\n",
       "      <td>-0.045208</td>\n",
       "      <td>-0.012344</td>\n",
       "      <td>-0.047192</td>\n",
       "      <td>0.307322</td>\n",
       "      <td>-0.010969</td>\n",
       "    </tr>\n",
       "    <tr>\n",
       "      <th>num_code</th>\n",
       "      <td>-0.691739</td>\n",
       "      <td>0.691739</td>\n",
       "      <td>1.000000</td>\n",
       "      <td>0.115092</td>\n",
       "      <td>-0.004274</td>\n",
       "      <td>-0.133620</td>\n",
       "      <td>0.221424</td>\n",
       "      <td>-0.044031</td>\n",
       "    </tr>\n",
       "    <tr>\n",
       "      <th>from</th>\n",
       "      <td>0.045208</td>\n",
       "      <td>-0.045208</td>\n",
       "      <td>0.115092</td>\n",
       "      <td>1.000000</td>\n",
       "      <td>0.022661</td>\n",
       "      <td>-0.232568</td>\n",
       "      <td>0.016159</td>\n",
       "      <td>-0.000665</td>\n",
       "    </tr>\n",
       "    <tr>\n",
       "      <th>stop</th>\n",
       "      <td>0.012344</td>\n",
       "      <td>-0.012344</td>\n",
       "      <td>-0.004274</td>\n",
       "      <td>0.022661</td>\n",
       "      <td>1.000000</td>\n",
       "      <td>0.014762</td>\n",
       "      <td>-0.552149</td>\n",
       "      <td>-0.378008</td>\n",
       "    </tr>\n",
       "    <tr>\n",
       "      <th>to</th>\n",
       "      <td>0.047192</td>\n",
       "      <td>-0.047192</td>\n",
       "      <td>-0.133620</td>\n",
       "      <td>-0.232568</td>\n",
       "      <td>0.014762</td>\n",
       "      <td>1.000000</td>\n",
       "      <td>0.026977</td>\n",
       "      <td>-0.012072</td>\n",
       "    </tr>\n",
       "    <tr>\n",
       "      <th>price</th>\n",
       "      <td>-0.307322</td>\n",
       "      <td>0.307322</td>\n",
       "      <td>0.221424</td>\n",
       "      <td>0.016159</td>\n",
       "      <td>-0.552149</td>\n",
       "      <td>0.026977</td>\n",
       "      <td>1.000000</td>\n",
       "      <td>0.197141</td>\n",
       "    </tr>\n",
       "    <tr>\n",
       "      <th>Duration_min</th>\n",
       "      <td>0.010969</td>\n",
       "      <td>-0.010969</td>\n",
       "      <td>-0.044031</td>\n",
       "      <td>-0.000665</td>\n",
       "      <td>-0.378008</td>\n",
       "      <td>-0.012072</td>\n",
       "      <td>0.197141</td>\n",
       "      <td>1.000000</td>\n",
       "    </tr>\n",
       "  </tbody>\n",
       "</table>\n",
       "</div>"
      ],
      "text/plain": [
       "               airline   ch_code  num_code      from      stop        to  \\\n",
       "airline       1.000000 -1.000000 -0.691739  0.045208  0.012344  0.047192   \n",
       "ch_code      -1.000000  1.000000  0.691739 -0.045208 -0.012344 -0.047192   \n",
       "num_code     -0.691739  0.691739  1.000000  0.115092 -0.004274 -0.133620   \n",
       "from          0.045208 -0.045208  0.115092  1.000000  0.022661 -0.232568   \n",
       "stop          0.012344 -0.012344 -0.004274  0.022661  1.000000  0.014762   \n",
       "to            0.047192 -0.047192 -0.133620 -0.232568  0.014762  1.000000   \n",
       "price        -0.307322  0.307322  0.221424  0.016159 -0.552149  0.026977   \n",
       "Duration_min  0.010969 -0.010969 -0.044031 -0.000665 -0.378008 -0.012072   \n",
       "\n",
       "                 price  Duration_min  \n",
       "airline      -0.307322      0.010969  \n",
       "ch_code       0.307322     -0.010969  \n",
       "num_code      0.221424     -0.044031  \n",
       "from          0.016159     -0.000665  \n",
       "stop         -0.552149     -0.378008  \n",
       "to            0.026977     -0.012072  \n",
       "price         1.000000      0.197141  \n",
       "Duration_min  0.197141      1.000000  "
      ]
     },
     "execution_count": 47,
     "metadata": {},
     "output_type": "execute_result"
    }
   ],
   "source": [
    "bud.corr()"
   ]
  },
  {
   "cell_type": "markdown",
   "id": "ab4e50b8",
   "metadata": {},
   "source": [
    "So, in the data we can clearly see the price of airplane was affected by the which type of airplane service we choose and which route that flight travel, number of stops during the travel the flight have and what stop it is, and how many hours it fly to reach the destination [distance]."
   ]
  },
  {
   "cell_type": "code",
   "execution_count": 48,
   "id": "62c14f68",
   "metadata": {},
   "outputs": [
    {
     "data": {
      "text/html": [
       "<div>\n",
       "<style scoped>\n",
       "    .dataframe tbody tr th:only-of-type {\n",
       "        vertical-align: middle;\n",
       "    }\n",
       "\n",
       "    .dataframe tbody tr th {\n",
       "        vertical-align: top;\n",
       "    }\n",
       "\n",
       "    .dataframe thead th {\n",
       "        text-align: right;\n",
       "    }\n",
       "</style>\n",
       "<table border=\"1\" class=\"dataframe\">\n",
       "  <thead>\n",
       "    <tr style=\"text-align: right;\">\n",
       "      <th></th>\n",
       "      <th>date</th>\n",
       "      <th>airline</th>\n",
       "      <th>ch_code</th>\n",
       "      <th>num_code</th>\n",
       "      <th>dep_time</th>\n",
       "      <th>from</th>\n",
       "      <th>stop</th>\n",
       "      <th>arr_time</th>\n",
       "      <th>to</th>\n",
       "      <th>price</th>\n",
       "      <th>Route</th>\n",
       "      <th>Duration_min</th>\n",
       "    </tr>\n",
       "  </thead>\n",
       "  <tbody>\n",
       "    <tr>\n",
       "      <th>0</th>\n",
       "      <td>11-02-2022</td>\n",
       "      <td>1</td>\n",
       "      <td>0</td>\n",
       "      <td>868</td>\n",
       "      <td>18:00</td>\n",
       "      <td>2</td>\n",
       "      <td>2</td>\n",
       "      <td>20:00</td>\n",
       "      <td>5</td>\n",
       "      <td>25612.0</td>\n",
       "      <td>NaN</td>\n",
       "      <td>120</td>\n",
       "    </tr>\n",
       "    <tr>\n",
       "      <th>1</th>\n",
       "      <td>11-02-2022</td>\n",
       "      <td>1</td>\n",
       "      <td>0</td>\n",
       "      <td>624</td>\n",
       "      <td>19:00</td>\n",
       "      <td>2</td>\n",
       "      <td>2</td>\n",
       "      <td>21:15</td>\n",
       "      <td>5</td>\n",
       "      <td>25612.0</td>\n",
       "      <td>NaN</td>\n",
       "      <td>135</td>\n",
       "    </tr>\n",
       "    <tr>\n",
       "      <th>2</th>\n",
       "      <td>11-02-2022</td>\n",
       "      <td>1</td>\n",
       "      <td>0</td>\n",
       "      <td>531</td>\n",
       "      <td>20:00</td>\n",
       "      <td>2</td>\n",
       "      <td>0</td>\n",
       "      <td>20:45</td>\n",
       "      <td>5</td>\n",
       "      <td>42220.0</td>\n",
       "      <td>NaN</td>\n",
       "      <td>765</td>\n",
       "    </tr>\n",
       "    <tr>\n",
       "      <th>3</th>\n",
       "      <td>11-02-2022</td>\n",
       "      <td>1</td>\n",
       "      <td>0</td>\n",
       "      <td>839</td>\n",
       "      <td>21:25</td>\n",
       "      <td>2</td>\n",
       "      <td>0</td>\n",
       "      <td>23:55</td>\n",
       "      <td>5</td>\n",
       "      <td>44450.0</td>\n",
       "      <td>NaN</td>\n",
       "      <td>870</td>\n",
       "    </tr>\n",
       "    <tr>\n",
       "      <th>4</th>\n",
       "      <td>11-02-2022</td>\n",
       "      <td>1</td>\n",
       "      <td>0</td>\n",
       "      <td>544</td>\n",
       "      <td>17:15</td>\n",
       "      <td>2</td>\n",
       "      <td>0</td>\n",
       "      <td>23:55</td>\n",
       "      <td>5</td>\n",
       "      <td>46690.0</td>\n",
       "      <td>NaN</td>\n",
       "      <td>400</td>\n",
       "    </tr>\n",
       "    <tr>\n",
       "      <th>...</th>\n",
       "      <td>...</td>\n",
       "      <td>...</td>\n",
       "      <td>...</td>\n",
       "      <td>...</td>\n",
       "      <td>...</td>\n",
       "      <td>...</td>\n",
       "      <td>...</td>\n",
       "      <td>...</td>\n",
       "      <td>...</td>\n",
       "      <td>...</td>\n",
       "      <td>...</td>\n",
       "      <td>...</td>\n",
       "    </tr>\n",
       "    <tr>\n",
       "      <th>93482</th>\n",
       "      <td>31-03-2022</td>\n",
       "      <td>0</td>\n",
       "      <td>1</td>\n",
       "      <td>822</td>\n",
       "      <td>09:45</td>\n",
       "      <td>1</td>\n",
       "      <td>0</td>\n",
       "      <td>19:50</td>\n",
       "      <td>3</td>\n",
       "      <td>69265.0</td>\n",
       "      <td>NaN</td>\n",
       "      <td>605</td>\n",
       "    </tr>\n",
       "    <tr>\n",
       "      <th>93483</th>\n",
       "      <td>31-03-2022</td>\n",
       "      <td>0</td>\n",
       "      <td>1</td>\n",
       "      <td>826</td>\n",
       "      <td>12:30</td>\n",
       "      <td>1</td>\n",
       "      <td>0</td>\n",
       "      <td>22:55</td>\n",
       "      <td>3</td>\n",
       "      <td>77105.0</td>\n",
       "      <td>NaN</td>\n",
       "      <td>625</td>\n",
       "    </tr>\n",
       "    <tr>\n",
       "      <th>93484</th>\n",
       "      <td>31-03-2022</td>\n",
       "      <td>0</td>\n",
       "      <td>1</td>\n",
       "      <td>832</td>\n",
       "      <td>07:05</td>\n",
       "      <td>1</td>\n",
       "      <td>0</td>\n",
       "      <td>20:55</td>\n",
       "      <td>3</td>\n",
       "      <td>79099.0</td>\n",
       "      <td>NaN</td>\n",
       "      <td>110</td>\n",
       "    </tr>\n",
       "    <tr>\n",
       "      <th>93485</th>\n",
       "      <td>31-03-2022</td>\n",
       "      <td>0</td>\n",
       "      <td>1</td>\n",
       "      <td>828</td>\n",
       "      <td>07:00</td>\n",
       "      <td>1</td>\n",
       "      <td>0</td>\n",
       "      <td>17:00</td>\n",
       "      <td>3</td>\n",
       "      <td>81585.0</td>\n",
       "      <td>NaN</td>\n",
       "      <td>600</td>\n",
       "    </tr>\n",
       "    <tr>\n",
       "      <th>93486</th>\n",
       "      <td>31-03-2022</td>\n",
       "      <td>0</td>\n",
       "      <td>1</td>\n",
       "      <td>822</td>\n",
       "      <td>09:45</td>\n",
       "      <td>1</td>\n",
       "      <td>0</td>\n",
       "      <td>19:50</td>\n",
       "      <td>3</td>\n",
       "      <td>81585.0</td>\n",
       "      <td>NaN</td>\n",
       "      <td>605</td>\n",
       "    </tr>\n",
       "  </tbody>\n",
       "</table>\n",
       "<p>93487 rows × 12 columns</p>\n",
       "</div>"
      ],
      "text/plain": [
       "             date  airline  ch_code  num_code dep_time  from  stop arr_time  \\\n",
       "0      11-02-2022        1        0       868    18:00     2     2    20:00   \n",
       "1      11-02-2022        1        0       624    19:00     2     2    21:15   \n",
       "2      11-02-2022        1        0       531    20:00     2     0    20:45   \n",
       "3      11-02-2022        1        0       839    21:25     2     0    23:55   \n",
       "4      11-02-2022        1        0       544    17:15     2     0    23:55   \n",
       "...           ...      ...      ...       ...      ...   ...   ...      ...   \n",
       "93482  31-03-2022        0        1       822    09:45     1     0    19:50   \n",
       "93483  31-03-2022        0        1       826    12:30     1     0    22:55   \n",
       "93484  31-03-2022        0        1       832    07:05     1     0    20:55   \n",
       "93485  31-03-2022        0        1       828    07:00     1     0    17:00   \n",
       "93486  31-03-2022        0        1       822    09:45     1     0    19:50   \n",
       "\n",
       "       to    price Route  Duration_min  \n",
       "0       5  25612.0   NaN           120  \n",
       "1       5  25612.0   NaN           135  \n",
       "2       5  42220.0   NaN           765  \n",
       "3       5  44450.0   NaN           870  \n",
       "4       5  46690.0   NaN           400  \n",
       "...    ..      ...   ...           ...  \n",
       "93482   3  69265.0   NaN           605  \n",
       "93483   3  77105.0   NaN           625  \n",
       "93484   3  79099.0   NaN           110  \n",
       "93485   3  81585.0   NaN           600  \n",
       "93486   3  81585.0   NaN           605  \n",
       "\n",
       "[93487 rows x 12 columns]"
      ]
     },
     "execution_count": 48,
     "metadata": {},
     "output_type": "execute_result"
    }
   ],
   "source": [
    "bud"
   ]
  },
  {
   "cell_type": "code",
   "execution_count": 87,
   "id": "448e564e",
   "metadata": {},
   "outputs": [
    {
     "data": {
      "text/plain": [
       "<AxesSubplot:xlabel='price', ylabel='Count'>"
      ]
     },
     "execution_count": 87,
     "metadata": {},
     "output_type": "execute_result"
    },
    {
     "data": {
      "image/png": "[encoded data removed]",
      "text/plain": [
       "<Figure size 500x500 with 1 Axes>"
      ]
     },
     "metadata": {},
     "output_type": "display_data"
    }
   ],
   "source": [
    "import seaborn as sns\n",
    "import matplotlib.pyplot as plt\n",
    "sns.histplot(bud[\"price\"])"
   ]
  },
  {
   "cell_type": "code",
   "execution_count": 46,
   "id": "60a4497d",
   "metadata": {},
   "outputs": [],
   "source": [
    "#X=bud[[\"airline\",\"ch_code\",\"num_code\",\"from\",\"to\"]]\n",
    "#y=bud[[\"price\"]]"
   ]
  },
  {
   "cell_type": "code",
   "execution_count": 90,
   "id": "a3a37d75",
   "metadata": {},
   "outputs": [
    {
     "data": {
      "text/plain": [
       "<AxesSubplot:>"
      ]
     },
     "execution_count": 90,
     "metadata": {},
     "output_type": "execute_result"
    },
    {
     "data": {
      "image/png": "[encoded data removed]",
      "text/plain": [
       "<Figure size 500x500 with 1 Axes>"
      ]
     },
     "metadata": {},
     "output_type": "display_data"
    }
   ],
   "source": [
    "bud.boxplot()"
   ]
  },
  {
   "cell_type": "code",
   "execution_count": 88,
   "id": "3fe5a776",
   "metadata": {},
   "outputs": [
    {
     "data": {
      "text/plain": [
       "Index(['date', 'airline', 'ch_code', 'num_code', 'dep_time', 'from', 'stop',\n",
       "       'arr_time', 'to', 'price', 'Route', 'Duration_min'],\n",
       "      dtype='object')"
      ]
     },
     "execution_count": 88,
     "metadata": {},
     "output_type": "execute_result"
    }
   ],
   "source": [
    "bud.columns"
   ]
  },
  {
   "cell_type": "code",
   "execution_count": 49,
   "id": "e3ae0842",
   "metadata": {},
   "outputs": [
    {
     "data": {
      "text/plain": [
       "((93487, 6), (93487,))"
      ]
     },
     "execution_count": 49,
     "metadata": {},
     "output_type": "execute_result"
    }
   ],
   "source": [
    "X=bud.drop(columns=['price','date','dep_time','arr_time','Route','num_code']) # airline-0,ch-code-1,from-3,stop-0,to-1,Du-min- 420\n",
    "y=bud['price']\n",
    "X.shape,y.shape"
   ]
  },
  {
   "cell_type": "code",
   "execution_count": 50,
   "id": "a6954482",
   "metadata": {},
   "outputs": [],
   "source": [
    "from sklearn.model_selection import train_test_split\n",
    "X=X.values\n",
    "X_train, X_test, y_train, y_test = train_test_split(X, y, test_size=0.3,\n",
    "                                                    random_state=1)"
   ]
  },
  {
   "cell_type": "code",
   "execution_count": 51,
   "id": "31961ad8",
   "metadata": {},
   "outputs": [
    {
     "data": {
      "text/plain": [
       "((65440, 6), (28047, 6), (65440,), (28047,))"
      ]
     },
     "execution_count": 51,
     "metadata": {},
     "output_type": "execute_result"
    }
   ],
   "source": [
    "X_train.shape,X_test.shape,y_train.shape,y_test.shape"
   ]
  },
  {
   "cell_type": "code",
   "execution_count": 52,
   "id": "b429d692",
   "metadata": {},
   "outputs": [
    {
     "data": {
      "text/plain": [
       "array([[  0,   1,   3,   0,   1, 420],\n",
       "       [  0,   1,   0,   0,   1, 810],\n",
       "       [  0,   1,   2,   0,   5, 110],\n",
       "       ...,\n",
       "       [  0,   1,   0,   0,   3, 175],\n",
       "       [  1,   0,   2,   0,   5, 740],\n",
       "       [  0,   1,   3,   0,   4, 850]], dtype=int64)"
      ]
     },
     "execution_count": 52,
     "metadata": {},
     "output_type": "execute_result"
    }
   ],
   "source": [
    "X_train"
   ]
  },
  {
   "cell_type": "code",
   "execution_count": 53,
   "id": "74c737d4",
   "metadata": {},
   "outputs": [
    {
     "data": {
      "text/plain": [
       "79517    41314.0\n",
       "53477    44280.0\n",
       "3861     70793.0\n",
       "35542    57453.0\n",
       "70278    39499.0\n",
       "          ...   \n",
       "21440    34460.0\n",
       "73349    17794.0\n",
       "50057    56588.0\n",
       "5192     59033.0\n",
       "77708    58394.0\n",
       "Name: price, Length: 65440, dtype: float64"
      ]
     },
     "execution_count": 53,
     "metadata": {},
     "output_type": "execute_result"
    }
   ],
   "source": [
    "y_train"
   ]
  },
  {
   "cell_type": "code",
   "execution_count": 54,
   "id": "7464a879",
   "metadata": {},
   "outputs": [],
   "source": [
    "\n",
    "from sklearn.linear_model import LinearRegression\n",
    "from sklearn.linear_model import SGDRegressor\n",
    "from sklearn.neural_network import MLPRegressor\n",
    "from sklearn.ensemble import RandomForestRegressor\n",
    "from xgboost import XGBRegressor\n",
    "\n",
    "\n",
    "from sklearn.model_selection import cross_val_score\n",
    "\n",
    "\n",
    "from sklearn.metrics import mean_absolute_error\n",
    "from sklearn.metrics import median_absolute_error"
   ]
  },
  {
   "cell_type": "code",
   "execution_count": 55,
   "id": "5e2b2228",
   "metadata": {},
   "outputs": [],
   "source": [
    "CV = []\n",
    "train_scores = []\n",
    "test_scores = []\n",
    "\n",
    "def pred_model(model):\n",
    "    # Training model\n",
    "    model.fit(X_train,y_train.values)\n",
    "            \n",
    "    # score of train set\n",
    "    train_model_score = model.score(X_train,y_train)\n",
    "    train_scores.append(round(train_model_score,2))\n",
    "    y_pred_train=model.predict(X_train)\n",
    "    \n",
    "    # score of test set\n",
    "    test_model_score = model.score(X_test,y_test)\n",
    "    test_scores.append(round(test_model_score,2))\n",
    "    y_pred_test=model.predict(X_test)\n",
    "    \n",
    "    # train set using Cross validation\n",
    "    cross_val = cross_val_score(model ,X_train ,y_train ,cv=5)\n",
    "    cv_mean = cross_val.mean()\n",
    "    CV.append(round(cv_mean,2))\n",
    "    \n",
    "    # Printing results\n",
    "    print(\"Train score :\",round(train_model_score,2))\n",
    "    print(\"Test score :\",round(test_model_score,2))\n",
    "    print(\"Train CV scores :\",cross_val)\n",
    "    print(\"Train CV mean :\",round(cv_mean,2))\n",
    "    print(\"Mean absolute error for train :\",mean_absolute_error(y_train,y_pred_train))\n",
    "    print(\"Median absolute error for train :\",median_absolute_error(y_train,y_pred_train))\n",
    "    print(\"Mean absolute error for test :\",mean_absolute_error(y_test,y_pred_test))\n",
    "    print(\"Median absolute error for test :\",mean_absolute_error(y_test,y_pred_test))\n",
    "    \n",
    "    \n",
    "    # Plotting Graphs \n",
    "    # Residual Plot of train data\n",
    "    fig, ax = plt.subplots(1,2,figsize = (10,4))\n",
    "    ax[0].set_title('Residual Plot of Train samples')\n",
    "    sns.distplot((y_train[:100]-y_pred_train[:100]),hist = False,ax = ax[0])\n",
    "    ax[0].set_xlabel('y_train - y_pred_train')\n",
    "    \n",
    "    # Y_test vs Y_train scatter plot\n",
    "    ax[1].set_title('y_test vs y_pred_test')\n",
    "    ax[1].scatter(x = y_test[:100], y = y_pred_test[:100])\n",
    "    ax[1].set_xlabel('y_test')\n",
    "    ax[1].set_ylabel('y_pred_test')\n",
    "    \n",
    "    plt.show()"
   ]
  },
  {
   "cell_type": "code",
   "execution_count": 56,
   "id": "c42d1bf9",
   "metadata": {},
   "outputs": [
    {
     "name": "stdout",
     "output_type": "stream",
     "text": [
      "Train score : 0.4\n",
      "Test score : 0.4\n",
      "Train CV scores : [0.39451704 0.40028719 0.40829278 0.39232753 0.40650036]\n",
      "Train CV mean : 0.4\n",
      "Mean absolute error for train : 7522.515491248467\n",
      "Median absolute error for train : 5525.398321176006\n",
      "Mean absolute error for test : 7580.634917689801\n",
      "Median absolute error for test : 7580.634917689801\n"
     ]
    },
    {
     "name": "stderr",
     "output_type": "stream",
     "text": [
      "C:\\Users\\ACER\\anaconda3\\lib\\site-packages\\seaborn\\distributions.py:2619: FutureWarning: `distplot` is a deprecated function and will be removed in a future version. Please adapt your code to use either `displot` (a figure-level function with similar flexibility) or `kdeplot` (an axes-level function for kernel density plots).\n",
      "  warnings.warn(msg, FutureWarning)\n"
     ]
    },
    {
     "data": {
      "image/png": "[encoded data removed]",
      "text/plain": [
       "<Figure size 1000x400 with 2 Axes>"
      ]
     },
     "metadata": {},
     "output_type": "display_data"
    }
   ],
   "source": [
    "lr = LinearRegression()\n",
    "pred_model(lr)"
   ]
  },
  {
   "cell_type": "code",
   "execution_count": 57,
   "id": "b6089195",
   "metadata": {},
   "outputs": [
    {
     "name": "stdout",
     "output_type": "stream",
     "text": [
      "Train score : 0.86\n",
      "Test score : 0.84\n",
      "Train CV scores : [0.82514354 0.82790786 0.83251177 0.83393716 0.84254257]\n",
      "Train CV mean : 0.83\n",
      "Mean absolute error for train : 2825.2671953425556\n",
      "Median absolute error for train : 1381.7392244176735\n",
      "Mean absolute error for test : 2958.157436548938\n",
      "Median absolute error for test : 2958.157436548938\n"
     ]
    },
    {
     "name": "stderr",
     "output_type": "stream",
     "text": [
      "C:\\Users\\ACER\\anaconda3\\lib\\site-packages\\seaborn\\distributions.py:2619: FutureWarning: `distplot` is a deprecated function and will be removed in a future version. Please adapt your code to use either `displot` (a figure-level function with similar flexibility) or `kdeplot` (an axes-level function for kernel density plots).\n",
      "  warnings.warn(msg, FutureWarning)\n"
     ]
    },
    {
     "data": {
      "image/png": "[encoded data removed]",
      "text/plain": [
       "<Figure size 1000x400 with 2 Axes>"
      ]
     },
     "metadata": {},
     "output_type": "display_data"
    }
   ],
   "source": [
    "RF = RandomForestRegressor(max_depth=30,min_samples_split=20,n_estimators=100)\n",
    "RF.fit(X_train,y_train)\n",
    "pred_model(RF)"
   ]
  },
  {
   "cell_type": "code",
   "execution_count": 58,
   "id": "49dc3b1d",
   "metadata": {},
   "outputs": [],
   "source": [
    "predicted_price=RF.predict([[2,1,3,1,0,420],[2,0,2,0,1,321],[1,1,5,1,1,325],[0,0,3,0,5,156],[0,1,3,0,1,420]])  #[airline-0,ch-code-1,from-3,stop-0,to-1,Du-min- 420]=[price]"
   ]
  },
  {
   "cell_type": "code",
   "execution_count": 59,
   "id": "7e1cfc36",
   "metadata": {},
   "outputs": [
    {
     "data": {
      "text/plain": [
       "array([69949.46270537, 45388.86728875, 72425.69974271, 55439.28922599,\n",
       "       41644.20607134])"
      ]
     },
     "execution_count": 59,
     "metadata": {},
     "output_type": "execute_result"
    }
   ],
   "source": [
    "predicted_price"
   ]
  },
  {
   "cell_type": "code",
   "execution_count": 151,
   "id": "d89c20ba",
   "metadata": {},
   "outputs": [
    {
     "name": "stdout",
     "output_type": "stream",
     "text": [
      "Train score : 0.79\n",
      "Test score : 0.78\n",
      "Train CV scores : [0.77400119 0.7771047  0.78958313 0.7856814  0.79139425]\n",
      "Train CV mean : 0.78\n",
      "Mean absolute error for train : 3909.084616036637\n",
      "Median absolute error for train : 2457.94140625\n",
      "Mean absolute error for test : 4017.3418078777363\n",
      "Median absolute error for test : 4017.3418078777363\n"
     ]
    },
    {
     "name": "stderr",
     "output_type": "stream",
     "text": [
      "C:\\Users\\ACER\\anaconda3\\lib\\site-packages\\seaborn\\distributions.py:2619: FutureWarning: `distplot` is a deprecated function and will be removed in a future version. Please adapt your code to use either `displot` (a figure-level function with similar flexibility) or `kdeplot` (an axes-level function for kernel density plots).\n",
      "  warnings.warn(msg, FutureWarning)\n"
     ]
    },
    {
     "data": {
      "image/png": "[encoded data removed]",
      "text/plain": [
       "<Figure size 1000x400 with 2 Axes>"
      ]
     },
     "metadata": {},
     "output_type": "display_data"
    }
   ],
   "source": [
    "XGBR = XGBRegressor()\n",
    "pred_model(XGBR)"
   ]
  },
  {
   "cell_type": "code",
   "execution_count": 152,
   "id": "7af7931c",
   "metadata": {},
   "outputs": [],
   "source": [
    "predict_price=XGBR.predict([[2,1,3,1,0,420],[2,0,2,0,1,321],[1,1,5,1,1,325],[0,0,3,0,5,156],[0,1,3,0,1,420]])"
   ]
  },
  {
   "cell_type": "code",
   "execution_count": 153,
   "id": "a87d05e3",
   "metadata": {},
   "outputs": [
    {
     "data": {
      "text/plain": [
       "array([60031.78 , 46239.703, 57238.418, 63049.594, 51391.76 ],\n",
       "      dtype=float32)"
      ]
     },
     "execution_count": 153,
     "metadata": {},
     "output_type": "execute_result"
    }
   ],
   "source": [
    "predict_price"
   ]
  },
  {
   "cell_type": "code",
   "execution_count": 60,
   "id": "7fdf5526",
   "metadata": {},
   "outputs": [],
   "source": [
    "import pickle"
   ]
  },
  {
   "cell_type": "code",
   "execution_count": 61,
   "id": "43a90927",
   "metadata": {},
   "outputs": [],
   "source": [
    "pickle_out=open(\"Flight_model.pkl\",\"wb\")\n",
    "pickle.dump(RF, pickle_out)\n",
    "pickle_out.close()"
   ]
  },
  {
   "cell_type": "code",
   "execution_count": null,
   "id": "0496e154",
   "metadata": {},
   "outputs": [],
   "source": []
  }
 ],
 "metadata": {
  "kernelspec": {
   "display_name": "Python 3 (ipykernel)",
   "language": "python",
   "name": "python3"
  },
  "language_info": {
   "codemirror_mode": {
    "name": "ipython",
    "version": 3
   },
   "file_extension": ".py",
   "mimetype": "text/x-python",
   "name": "python",
   "nbconvert_exporter": "python",
   "pygments_lexer": "ipython3",
   "version": "3.9.13"
  }
 },
 "nbformat": 4,
 "nbformat_minor": 5
}
